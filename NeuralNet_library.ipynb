{
  "nbformat": 4,
  "nbformat_minor": 0,
  "metadata": {
    "colab": {
      "provenance": [],
      "authorship_tag": "ABX9TyM3wxO9Mi/ZtruGY9ErQZyI",
      "include_colab_link": true
    },
    "kernelspec": {
      "name": "python3",
      "display_name": "Python 3"
    },
    "language_info": {
      "name": "python"
    }
  },
  "cells": [
    {
      "cell_type": "markdown",
      "metadata": {
        "id": "view-in-github",
        "colab_type": "text"
      },
      "source": [
        "<a href=\"https://colab.research.google.com/github/light-y44/NeuralNet_Practice_AndrejK/blob/main/NeuralNet_library.ipynb\" target=\"_parent\"><img src=\"https://colab.research.google.com/assets/colab-badge.svg\" alt=\"Open In Colab\"/></a>"
      ]
    },
    {
      "cell_type": "code",
      "execution_count": 10,
      "metadata": {
        "id": "vvKe3_bpXV8j"
      },
      "outputs": [],
      "source": [
        "import numpy as np\n",
        "import math\n",
        "import matplotlib.pyplot as plt\n",
        "%matplotlib inline"
      ]
    },
    {
      "cell_type": "code",
      "source": [
        "class Value:\n",
        "    def __init__(self, data, _children=(), _op='', label=''):\n",
        "      self.data = data\n",
        "      self._children = _children\n",
        "      self._op = _op\n",
        "      self.label = label\n",
        "      self.grad = 0.0 # Gradient is initialised to 0.0\n",
        "      self._backward = lambda: None # Here, the \"backward\" method calculates the backpropagation.\n",
        "\n",
        "    def __repr__(self):\n",
        "      return f\"Value(data={self.data})\"\n",
        "\n",
        "    # def __eq__(self, other):\n",
        "    #   return id(self) == id(other)\n",
        "\n",
        "    # def __hash__(self):\n",
        "    #   return id(self)\n",
        "\n",
        "    def __add__(self, other):\n",
        "      other = other if isinstance(other, Value) else Value(other)\n",
        "      out = Value(self.data + other.data, (self, other), '+', f'{self.label} + {other.label}')\n",
        "\n",
        "      def _backward():\n",
        "        self.grad += 1.0 * out.grad # chain rule => dl/dout*dout/dx\n",
        "        other.grad += 1.0 * out.grad\n",
        "      out._backward = _backward\n",
        "\n",
        "      return out\n",
        "\n",
        "    def __radd__(self, other): # fall back operation, in case we have 2*a, then we wouldn't know how to perform addition of a scalar and Value\n",
        "      return self + other\n",
        "\n",
        "    def __neg__(self):\n",
        "      return self * -1\n",
        "\n",
        "    def __sub__(self, other):\n",
        "      return self + (-other)\n",
        "\n",
        "    def __rsub__(self, other):\n",
        "      return other + (-self)\n",
        "\n",
        "    def __pow__(self, other):\n",
        "      assert isinstance(other, (int, float)), \"only supporting int/float powers for now\"\n",
        "      out = Value(self.data**other, (self,), f'**{other}', f'{self.label}**{other}')\n",
        "      def _backward():\n",
        "        self.grad += other * (self.data ** (other - 1)) * out.grad\n",
        "      out._backward = _backward\n",
        "      return out\n",
        "\n",
        "    def __mul__(self, other):\n",
        "      other = other if isinstance(other, Value) else Value(other)\n",
        "      out =  Value(self.data * other.data, (self, other), '*', f'{self.label} * {other.label}')\n",
        "\n",
        "      def _backward():\n",
        "        self.grad += other.data * out.grad # chain rule => dl/dout*dout/dx\n",
        "        other.grad += self.data * out.grad\n",
        "      out._backward = _backward\n",
        "\n",
        "      return out\n",
        "\n",
        "    def __rmul__(self, other):   # fall back operation, in case we have 2*a, then we wouldn't know how to perform multiplication of a scalar and Value\n",
        "      return self * other\n",
        "\n",
        "    def __truediv__(self, other):\n",
        "      other = other if isinstance(other, Value) else Value(other)\n",
        "      out = Value(self.data * other.data**-1, (self, other), '/', f'{self.label} / {other.label}')\n",
        "      def _backward():\n",
        "        self.grad += other.data**-1 * out.grad\n",
        "        other.grad += -other.data**-2 * self.data * out.grad\n",
        "      out._backward = _backward\n",
        "      return out\n",
        "\n",
        "    def tanh(self):\n",
        "      x = self.data\n",
        "      t = (math.exp(2*x) - 1)/(math.exp(2*x) + 1) # out = tanh(x)\n",
        "      out = Value(t, (self, ), 'tanh', f'tanh({self.label})')\n",
        "\n",
        "      def _backward():\n",
        "        self.grad += (1 - t**2) * out.grad #chain rule => dl/dout*dout/dx => out.grad*dout/dx\n",
        "      out._backward = _backward\n",
        "\n",
        "      return out\n",
        "\n",
        "    # One pass of back propagation\n",
        "    def Backward(self):\n",
        "      topo = []\n",
        "      visited = set()\n",
        "      def build_topo(v):\n",
        "        if v not in visited:\n",
        "          visited.add(v)\n",
        "          for child in v._children:\n",
        "            build_topo(child)\n",
        "          topo.append(v)\n",
        "\n",
        "      build_topo(self)\n",
        "\n",
        "      self.grad = 1.0\n",
        "      for node in reversed(topo):\n",
        "        node._backward()"
      ],
      "metadata": {
        "id": "oQkcfzccab_Z"
      },
      "execution_count": 97,
      "outputs": []
    },
    {
      "cell_type": "code",
      "source": [
        "from graphviz import Digraph\n",
        "\n",
        "def trace(root):\n",
        "  # builds a set of all nodes and edges in a graph\n",
        "  nodes, edges = set(), set()\n",
        "  def build(v):\n",
        "    if v not in nodes:\n",
        "      nodes.add(v)\n",
        "      for child in v._children:\n",
        "        edges.add((child, v))\n",
        "        build(child)\n",
        "  build(root)\n",
        "  return nodes, edges\n",
        "\n",
        "def draw_dot(root):\n",
        "  dot = Digraph(format='svg', graph_attr={'rankdir': 'LR'})\n",
        "\n",
        "  nodes, edges = trace(root)\n",
        "  for n in nodes:\n",
        "    uid = str(id(n))\n",
        "    dot.node(name = uid, label = \"{ %s | data %.4f | grad %.4f }\" % (n.label, n.data, n.grad), shape = 'record')\n",
        "    if n._op:\n",
        "      dot.node(name = uid + n._op, label = n._op)\n",
        "      dot.edge(uid + n._op, uid)\n",
        "\n",
        "  for n1, n2 in edges:\n",
        "    dot.edge(str(id(n1)), str(id(n2)) + n2._op)\n",
        "\n",
        "  return dot\n",
        "\n"
      ],
      "metadata": {
        "id": "t2fMBQAEeE22"
      },
      "execution_count": 91,
      "outputs": []
    },
    {
      "cell_type": "code",
      "source": [
        "a = Value(2.3, label='a')\n",
        "b = Value(-3.2, label='b')\n",
        "c = Value(10.0, label='c')\n",
        "e = a*b; e.label = 'e'\n",
        "d = e/c; d.label = 'd'\n",
        "\n",
        "d.Backward()\n",
        "draw_dot(d)\n",
        "\n"
      ],
      "metadata": {
        "colab": {
          "base_uri": "https://localhost:8080/",
          "height": 212
        },
        "id": "3C_56safiSBG",
        "outputId": "b673e308-09ec-4c7a-f690-18d992e72fea"
      },
      "execution_count": 57,
      "outputs": [
        {
          "output_type": "execute_result",
          "data": {
            "image/svg+xml": "<?xml version=\"1.0\" encoding=\"UTF-8\" standalone=\"no\"?>\n<!DOCTYPE svg PUBLIC \"-//W3C//DTD SVG 1.1//EN\"\n \"http://www.w3.org/Graphics/SVG/1.1/DTD/svg11.dtd\">\n<!-- Generated by graphviz version 2.43.0 (0)\n -->\n<!-- Title: %3 Pages: 1 -->\n<svg width=\"832pt\" height=\"128pt\"\n viewBox=\"0.00 0.00 832.00 128.00\" xmlns=\"http://www.w3.org/2000/svg\" xmlns:xlink=\"http://www.w3.org/1999/xlink\">\n<g id=\"graph0\" class=\"graph\" transform=\"scale(1 1) rotate(0) translate(4 124)\">\n<title>%3</title>\n<polygon fill=\"white\" stroke=\"transparent\" points=\"-4,4 -4,-124 828,-124 828,4 -4,4\"/>\n<!-- 137005104799248 -->\n<g id=\"node1\" class=\"node\">\n<title>137005104799248</title>\n<polygon fill=\"none\" stroke=\"black\" points=\"0,-83.5 0,-119.5 190,-119.5 190,-83.5 0,-83.5\"/>\n<text text-anchor=\"middle\" x=\"11.5\" y=\"-97.8\" font-family=\"Times,serif\" font-size=\"14.00\">b</text>\n<polyline fill=\"none\" stroke=\"black\" points=\"23,-83.5 23,-119.5 \"/>\n<text text-anchor=\"middle\" x=\"65.5\" y=\"-97.8\" font-family=\"Times,serif\" font-size=\"14.00\">data &#45;3.2000</text>\n<polyline fill=\"none\" stroke=\"black\" points=\"108,-83.5 108,-119.5 \"/>\n<text text-anchor=\"middle\" x=\"149\" y=\"-97.8\" font-family=\"Times,serif\" font-size=\"14.00\">grad 0.2300</text>\n</g>\n<!-- 137004847362960* -->\n<g id=\"node5\" class=\"node\">\n<title>137004847362960*</title>\n<ellipse fill=\"none\" stroke=\"black\" cx=\"253\" cy=\"-73.5\" rx=\"27\" ry=\"18\"/>\n<text text-anchor=\"middle\" x=\"253\" y=\"-69.8\" font-family=\"Times,serif\" font-size=\"14.00\">*</text>\n</g>\n<!-- 137005104799248&#45;&gt;137004847362960* -->\n<g id=\"edge3\" class=\"edge\">\n<title>137005104799248&#45;&gt;137004847362960*</title>\n<path fill=\"none\" stroke=\"black\" d=\"M190.34,-84.57C199.62,-82.9 208.58,-81.29 216.66,-79.84\"/>\n<polygon fill=\"black\" stroke=\"black\" points=\"217.49,-83.25 226.72,-78.04 216.26,-76.36 217.49,-83.25\"/>\n</g>\n<!-- 137004847357008 -->\n<g id=\"node2\" class=\"node\">\n<title>137004847357008</title>\n<polygon fill=\"none\" stroke=\"black\" points=\"316,-0.5 316,-36.5 508,-36.5 508,-0.5 316,-0.5\"/>\n<text text-anchor=\"middle\" x=\"327.5\" y=\"-14.8\" font-family=\"Times,serif\" font-size=\"14.00\">c</text>\n<polyline fill=\"none\" stroke=\"black\" points=\"339,-0.5 339,-36.5 \"/>\n<text text-anchor=\"middle\" x=\"382.5\" y=\"-14.8\" font-family=\"Times,serif\" font-size=\"14.00\">data 10.0000</text>\n<polyline fill=\"none\" stroke=\"black\" points=\"426,-0.5 426,-36.5 \"/>\n<text text-anchor=\"middle\" x=\"467\" y=\"-14.8\" font-family=\"Times,serif\" font-size=\"14.00\">grad 0.0736</text>\n</g>\n<!-- 137004850263952/ -->\n<g id=\"node7\" class=\"node\">\n<title>137004850263952/</title>\n<ellipse fill=\"none\" stroke=\"black\" cx=\"571\" cy=\"-45.5\" rx=\"27\" ry=\"18\"/>\n<text text-anchor=\"middle\" x=\"571\" y=\"-41.8\" font-family=\"Times,serif\" font-size=\"14.00\">/</text>\n</g>\n<!-- 137004847357008&#45;&gt;137004850263952/ -->\n<g id=\"edge6\" class=\"edge\">\n<title>137004847357008&#45;&gt;137004850263952/</title>\n<path fill=\"none\" stroke=\"black\" d=\"M508.4,-34.91C517.69,-36.5 526.64,-38.04 534.71,-39.43\"/>\n<polygon fill=\"black\" stroke=\"black\" points=\"534.32,-42.91 544.76,-41.16 535.5,-36.02 534.32,-42.91\"/>\n</g>\n<!-- 137004850260304 -->\n<g id=\"node3\" class=\"node\">\n<title>137004850260304</title>\n<polygon fill=\"none\" stroke=\"black\" points=\"0.5,-28.5 0.5,-64.5 189.5,-64.5 189.5,-28.5 0.5,-28.5\"/>\n<text text-anchor=\"middle\" x=\"12\" y=\"-42.8\" font-family=\"Times,serif\" font-size=\"14.00\">a</text>\n<polyline fill=\"none\" stroke=\"black\" points=\"23.5,-28.5 23.5,-64.5 \"/>\n<text text-anchor=\"middle\" x=\"63.5\" y=\"-42.8\" font-family=\"Times,serif\" font-size=\"14.00\">data 2.3000</text>\n<polyline fill=\"none\" stroke=\"black\" points=\"103.5,-28.5 103.5,-64.5 \"/>\n<text text-anchor=\"middle\" x=\"146.5\" y=\"-42.8\" font-family=\"Times,serif\" font-size=\"14.00\">grad &#45;0.3200</text>\n</g>\n<!-- 137004850260304&#45;&gt;137004847362960* -->\n<g id=\"edge5\" class=\"edge\">\n<title>137004850260304&#45;&gt;137004847362960*</title>\n<path fill=\"none\" stroke=\"black\" d=\"M189.9,-62.75C199.33,-64.38 208.45,-65.96 216.65,-67.38\"/>\n<polygon fill=\"black\" stroke=\"black\" points=\"216.06,-70.83 226.51,-69.09 217.26,-63.93 216.06,-70.83\"/>\n</g>\n<!-- 137004847362960 -->\n<g id=\"node4\" class=\"node\">\n<title>137004847362960</title>\n<polygon fill=\"none\" stroke=\"black\" points=\"317,-55.5 317,-91.5 507,-91.5 507,-55.5 317,-55.5\"/>\n<text text-anchor=\"middle\" x=\"328.5\" y=\"-69.8\" font-family=\"Times,serif\" font-size=\"14.00\">e</text>\n<polyline fill=\"none\" stroke=\"black\" points=\"340,-55.5 340,-91.5 \"/>\n<text text-anchor=\"middle\" x=\"382.5\" y=\"-69.8\" font-family=\"Times,serif\" font-size=\"14.00\">data &#45;7.3600</text>\n<polyline fill=\"none\" stroke=\"black\" points=\"425,-55.5 425,-91.5 \"/>\n<text text-anchor=\"middle\" x=\"466\" y=\"-69.8\" font-family=\"Times,serif\" font-size=\"14.00\">grad 0.1000</text>\n</g>\n<!-- 137004847362960&#45;&gt;137004850263952/ -->\n<g id=\"edge4\" class=\"edge\">\n<title>137004847362960&#45;&gt;137004850263952/</title>\n<path fill=\"none\" stroke=\"black\" d=\"M507.05,-56.73C516.89,-54.97 526.39,-53.28 534.9,-51.76\"/>\n<polygon fill=\"black\" stroke=\"black\" points=\"535.52,-55.2 544.75,-50 534.29,-48.31 535.52,-55.2\"/>\n</g>\n<!-- 137004847362960*&#45;&gt;137004847362960 -->\n<g id=\"edge1\" class=\"edge\">\n<title>137004847362960*&#45;&gt;137004847362960</title>\n<path fill=\"none\" stroke=\"black\" d=\"M280.28,-73.5C288.05,-73.5 297.08,-73.5 306.68,-73.5\"/>\n<polygon fill=\"black\" stroke=\"black\" points=\"306.88,-77 316.88,-73.5 306.88,-70 306.88,-77\"/>\n</g>\n<!-- 137004850263952 -->\n<g id=\"node6\" class=\"node\">\n<title>137004850263952</title>\n<polygon fill=\"none\" stroke=\"black\" points=\"634,-27.5 634,-63.5 824,-63.5 824,-27.5 634,-27.5\"/>\n<text text-anchor=\"middle\" x=\"645.5\" y=\"-41.8\" font-family=\"Times,serif\" font-size=\"14.00\">d</text>\n<polyline fill=\"none\" stroke=\"black\" points=\"657,-27.5 657,-63.5 \"/>\n<text text-anchor=\"middle\" x=\"699.5\" y=\"-41.8\" font-family=\"Times,serif\" font-size=\"14.00\">data &#45;0.7360</text>\n<polyline fill=\"none\" stroke=\"black\" points=\"742,-27.5 742,-63.5 \"/>\n<text text-anchor=\"middle\" x=\"783\" y=\"-41.8\" font-family=\"Times,serif\" font-size=\"14.00\">grad 1.0000</text>\n</g>\n<!-- 137004850263952/&#45;&gt;137004850263952 -->\n<g id=\"edge2\" class=\"edge\">\n<title>137004850263952/&#45;&gt;137004850263952</title>\n<path fill=\"none\" stroke=\"black\" d=\"M598.11,-45.5C605.63,-45.5 614.32,-45.5 623.58,-45.5\"/>\n<polygon fill=\"black\" stroke=\"black\" points=\"623.81,-49 633.81,-45.5 623.81,-42 623.81,-49\"/>\n</g>\n</g>\n</svg>\n",
            "text/plain": [
              "<graphviz.graphs.Digraph at 0x7c9aed4b4d10>"
            ]
          },
          "metadata": {},
          "execution_count": 57
        }
      ]
    },
    {
      "cell_type": "code",
      "source": [
        "import random\n",
        "\n",
        "class Neuron:\n",
        "  def __init__(self, nin):\n",
        "    self.w = [Value(random.uniform(-1,1)) for _ in range(nin)]\n",
        "    self.b = Value(random.uniform(-1,1))\n",
        "\n",
        "  def __call__(self, x):\n",
        "    out = sum((wi*xi for wi, xi in zip(self.w, x)), self.b)\n",
        "    return out.tanh()\n",
        "\n",
        "  def parameters(self):\n",
        "    return self.w + [self.b]\n"
      ],
      "metadata": {
        "id": "jCgRAUNJz2ih"
      },
      "execution_count": 115,
      "outputs": []
    },
    {
      "cell_type": "code",
      "source": [
        "class Layer:\n",
        "  def __init__(self, nin, nout):\n",
        "    self.neurons = [Neuron(nin) for _ in range(nout)]\n",
        "\n",
        "  def __call__(self, x):\n",
        "    outs = [n(x) for n in self.neurons]\n",
        "    return outs[0] if len(outs) == 1 else outs\n",
        "\n",
        "  def parameters(self):\n",
        "    return [p for neuron in self.neurons for p in neuron.parameters()]"
      ],
      "metadata": {
        "id": "DuXmUYHI4Cjs"
      },
      "execution_count": 120,
      "outputs": []
    },
    {
      "cell_type": "code",
      "source": [
        "class MLP:\n",
        "  def __init__(self, nin, nouts):\n",
        "    sz = [nin] + nouts\n",
        "    self.layers = [Layer(sz[i], sz[i+1]) for i in range(len(nouts))]\n",
        "\n",
        "  def __call__(self, x):\n",
        "    for layer in self.layers:\n",
        "      x = layer(x)\n",
        "    return x\n",
        "\n",
        "  def parameters(self):\n",
        "    return [p for layer in self.layers for p in layer.parameters()]"
      ],
      "metadata": {
        "id": "PQ6a2hWI4NDj"
      },
      "execution_count": 121,
      "outputs": []
    },
    {
      "cell_type": "code",
      "source": [
        "xs = [\n",
        "    [2.0, 3.0, -1.0],\n",
        "    [3.0, -1.0, 0.5],\n",
        "    [0.5, 1.0, 1.0],\n",
        "    [1.0, 1.0, -1.0]\n",
        "]\n",
        "ys = [1.0, -1.0, -1.0]\n",
        "ypred = [n(x) for x in xs]"
      ],
      "metadata": {
        "id": "l5UHEzrX48md"
      },
      "execution_count": 122,
      "outputs": []
    },
    {
      "cell_type": "code",
      "source": [
        "# Training\n",
        "epochs = 50\n",
        "alpha = 0.05\n",
        "n = MLP(3, [4, 4, 1])\n",
        "for k in range(epochs):\n",
        "  ypred = [n(x) for x in xs]\n",
        "  loss = sum((ygt - yout)**2 for ygt, yout in zip(ys, ypred))\n",
        "  loss.Backward()\n",
        "  for p in n.parameters():\n",
        "    p.data = p.data - alpha * p.grad\n",
        "    p.grad = 0.0\n",
        "    '''Setting grad to 0 because in the next time step we would want to calculate the gradient again\n",
        "    however in the code we use += instead of = hence if we don't set it to 0 we would keep adding to the already existing grad.'''\n",
        "  print(k, loss.data)"
      ],
      "metadata": {
        "colab": {
          "base_uri": "https://localhost:8080/"
        },
        "id": "kBntrtGK6WxO",
        "outputId": "bd6e83a1-e6dd-4662-fc8d-ed9a1078ec0a"
      },
      "execution_count": 127,
      "outputs": [
        {
          "output_type": "stream",
          "name": "stdout",
          "text": [
            "0 4.058565190335073\n",
            "1 2.624539444245687\n",
            "2 1.9909930408780951\n",
            "3 1.5953626857505272\n",
            "4 1.2034652125479695\n",
            "5 0.8718748818144211\n",
            "6 0.6297138487489016\n",
            "7 0.4655049235546347\n",
            "8 0.3558482253197289\n",
            "9 0.28122570669072144\n",
            "10 0.22881638891001554\n",
            "11 0.1907640948026089\n",
            "12 0.16227430476704663\n",
            "13 0.1403593680089033\n",
            "14 0.12310285042370411\n",
            "15 0.10923771749481367\n",
            "16 0.0979017962674293\n",
            "17 0.08849268418271716\n",
            "18 0.08057930172687969\n",
            "19 0.07384647809443591\n",
            "20 0.06805931028117604\n",
            "21 0.0630396717104739\n",
            "22 0.05865037515070629\n",
            "23 0.05478427245094815\n",
            "24 0.05135660857550922\n",
            "25 0.04829956448505644\n",
            "26 0.045558299836532715\n",
            "27 0.043088041117353267\n",
            "28 0.040851910087349085\n",
            "29 0.03881928415947933\n",
            "30 0.036964544190399753\n",
            "31 0.035266107971363016\n",
            "32 0.03370567687356692\n",
            "33 0.03226764325092231\n",
            "34 0.03093862031091786\n",
            "35 0.02970706616618542\n",
            "36 0.028562980953820892\n",
            "37 0.027497661112523806\n",
            "38 0.02650349871998573\n",
            "39 0.02557381661355551\n",
            "40 0.02470273212317793\n",
            "41 0.02388504383160672\n",
            "42 0.02311613698105845\n",
            "43 0.022391904066804257\n",
            "44 0.02170867786827968\n",
            "45 0.021063174719359153\n",
            "46 0.020452446249927293\n",
            "47 0.019873838169269478\n",
            "48 0.019324954929387995\n",
            "49 0.018803629319151298\n"
          ]
        }
      ]
    },
    {
      "cell_type": "code",
      "source": [
        "ypred = [n(x) for x in xs]\n",
        "ypred # The values are very close to the y ground truth"
      ],
      "metadata": {
        "colab": {
          "base_uri": "https://localhost:8080/"
        },
        "id": "H3XSEznaHrU-",
        "outputId": "57aeec3c-cf13-4454-f897-9e68c038b1b5"
      },
      "execution_count": 128,
      "outputs": [
        {
          "output_type": "execute_result",
          "data": {
            "text/plain": [
              "[Value(data=0.9059885857667951),\n",
              " Value(data=-0.9463037534741189),\n",
              " Value(data=-0.9188429712641684),\n",
              " Value(data=0.8778204334391946)]"
            ]
          },
          "metadata": {},
          "execution_count": 128
        }
      ]
    },
    {
      "cell_type": "code",
      "source": [],
      "metadata": {
        "id": "DlhK7OXCI2d0"
      },
      "execution_count": null,
      "outputs": []
    }
  ]
}